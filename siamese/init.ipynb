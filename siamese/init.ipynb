{
 "cells": [
  {
   "cell_type": "code",
   "execution_count": 114,
   "metadata": {},
   "outputs": [],
   "source": [
    "import tensorflow as tf\n",
    "from tensorflow import keras\n",
    "from tensorflow.keras.layers import Input, LSTM, Dense, Lambda\n",
    "from tensorflow.keras.models import Model\n",
    "from tensorflow.keras import backend as K"
   ]
  },
  {
   "cell_type": "code",
   "execution_count": 115,
   "metadata": {},
   "outputs": [],
   "source": [
    "import numpy as np\n",
    "\n",
    "\n",
    "texts = [\n",
    "    [\"Soccer is a popular sport\", \"Basketball is a team sport\"],\n",
    "    [\"The Eiffel Tower is in Paris\", \"The Statue of Liberty is in New York\"],\n",
    "    [\"Mangoes are a tropical fruit\", \"Pineapples are also tropical fruits\"],\n",
    "    [\"Hiking in the mountains is refreshing\", \"Swimming in the ocean is relaxing\"],\n",
    "    [\"Computer science involves coding\", \"Biology focuses on living organisms\"],\n",
    "    [\"The Earth orbits the Sun\", \"The Moon orbits the Earth\"],\n",
    "    [\"Cats have whiskers\", \"Snakes are limbless reptiles\"],\n",
    "    [\"Writing code can be challenging\", \"Reading books is a leisurely activity\"],\n",
    "    [\"Chemistry deals with chemical reactions\", \"Physics studies the laws of nature\"],\n",
    "    [\"Mount Everest is the world's tallest peak\", \"K2 is also a tall mountain\"],\n",
    "    [\"Artists create visual masterpieces\", \"Musicians compose melodious tunes\"],\n",
    "    [\"Summer is hot and sunny\", \"Winter is cold and snowy\"],\n",
    "    [\"Insects have six legs\", \"Spiders are arachnids with eight legs\"],\n",
    "    [\"London is the capital of England\", \"Tokyo is the capital of Japan\"],\n",
    "    [\"Learning a new language is a valuable skill\", \"Cooking delicious food is an art\"],\n",
    "    [\"Elephants are large mammals\", \"Kangaroos are marsupials\"],\n",
    "    [\"Rivers flow downstream to the sea\", \"Waterfalls are breathtaking natural wonders\"],\n",
    "    [\"Astronomy explores celestial objects\", \"Geology studies the Earth's structure\"],\n",
    "    [\"Singing requires vocal talent\", \"Dancing showcases body movements\"],\n",
    "    [\"Gardening is a peaceful hobby\", \"Extreme sports offer adrenaline rushes\"]\n",
    "]\n",
    "labels = [1, 0, 0, 1, 1, 0, 1, 0, 0, 1, 1, 0, 1, 0, 1, 0, 1, 0, 1, 0]  \n",
    "\n",
    "from tensorflow.keras.preprocessing.text import Tokenizer\n",
    "from tensorflow.keras.preprocessing.sequence import pad_sequences\n",
    "\n",
    "tokenizer = Tokenizer()\n",
    "tokenizer.fit_on_texts(texts)\n",
    "vocab_size = len(tokenizer.word_index) + 1\n",
    "\n",
    "sequences = tokenizer.texts_to_sequences(texts)\n",
    "max_seq_length = max(len(seq) for seq in sequences)\n",
    "sequences = pad_sequences(sequences, maxlen=max_seq_length)\n",
    "\n",
    "input_pairs = [(sequences[i], sequences[j]) for i in range(len(texts)) for j in range(len(texts)) if i != j]\n",
    "labels = np.array(labels * (len(texts) - 1))  \n",
    "\n",
    "indices = np.arange(len(input_pairs))\n",
    "np.random.shuffle(indices)\n",
    "input_pairs = np.array(input_pairs)[indices]\n",
    "labels = labels[indices]\n"
   ]
  },
  {
   "cell_type": "code",
   "execution_count": 116,
   "metadata": {},
   "outputs": [],
   "source": [
    "from tensorflow.keras.layers import Input, Embedding, LSTM, Lambda\n",
    "from tensorflow.keras.models import Model\n",
    "import tensorflow.keras.backend as K\n",
    "\n",
    "\n",
    "input_a = Input(shape=(max_seq_length,))\n",
    "input_b = Input(shape=(max_seq_length,))\n",
    "\n",
    "embedding_layer = Embedding(input_dim=vocab_size, output_dim=128)\n",
    "\n",
    "encoded_a = embedding_layer(input_a)\n",
    "encoded_b = embedding_layer(input_b)\n",
    "\n",
    "def cosine_similarity(vectors):\n",
    "    x, y = vectors\n",
    "    x = K.l2_normalize(x, axis=-1)\n",
    "    y = K.l2_normalize(y, axis=-1)\n",
    "    return K.sum(x * y, axis=-1)\n",
    "\n",
    "similarity_layer = Lambda(cosine_similarity, output_shape=(1,))([encoded_a, encoded_b])\n",
    "\n",
    "siamese_model = Model(inputs=[input_a, input_b], outputs=similarity_layer)\n"
   ]
  },
  {
   "cell_type": "code",
   "execution_count": 117,
   "metadata": {},
   "outputs": [],
   "source": [
    "\n",
    "siamese_model.compile(loss='mean_squared_error', optimizer='adam', metrics=['accuracy'])"
   ]
  },
  {
   "cell_type": "code",
   "execution_count": 118,
   "metadata": {},
   "outputs": [
    {
     "name": "stdout",
     "output_type": "stream",
     "text": [
      "Epoch 1/10\n",
      "12/12 [==============================] - 1s 2ms/step - loss: 0.4937 - accuracy: 0.4368\n",
      "Epoch 2/10\n",
      "12/12 [==============================] - 0s 2ms/step - loss: 0.3925 - accuracy: 0.4421\n",
      "Epoch 3/10\n",
      "12/12 [==============================] - 0s 2ms/step - loss: 0.3031 - accuracy: 0.4474\n",
      "Epoch 4/10\n",
      "12/12 [==============================] - 0s 3ms/step - loss: 0.2489 - accuracy: 0.4553\n",
      "Epoch 5/10\n",
      "12/12 [==============================] - 0s 1ms/step - loss: 0.2228 - accuracy: 0.4737\n",
      "Epoch 6/10\n",
      "12/12 [==============================] - 0s 2ms/step - loss: 0.2132 - accuracy: 0.4737\n",
      "Epoch 7/10\n",
      "12/12 [==============================] - 0s 2ms/step - loss: 0.2082 - accuracy: 0.4842\n",
      "Epoch 8/10\n",
      "12/12 [==============================] - 0s 2ms/step - loss: 0.2049 - accuracy: 0.4816\n",
      "Epoch 9/10\n",
      "12/12 [==============================] - 0s 2ms/step - loss: 0.2020 - accuracy: 0.5132\n",
      "Epoch 10/10\n",
      "12/12 [==============================] - 0s 2ms/step - loss: 0.2000 - accuracy: 0.5053\n"
     ]
    },
    {
     "data": {
      "text/plain": [
       "<keras.src.callbacks.History at 0x247e380b0d0>"
      ]
     },
     "execution_count": 118,
     "metadata": {},
     "output_type": "execute_result"
    }
   ],
   "source": [
    "\n",
    "siamese_model.fit([input_pairs[:, 0], input_pairs[:, 1]], labels, epochs=10, batch_size=32)\n"
   ]
  },
  {
   "cell_type": "code",
   "execution_count": 119,
   "metadata": {},
   "outputs": [
    {
     "name": "stdout",
     "output_type": "stream",
     "text": [
      "1/1 [==============================] - 0s 113ms/step\n",
      "Similarity Score: 1.0000001192092896\n",
      "The texts are similar.\n"
     ]
    }
   ],
   "source": [
    "# Example new text pair\n",
    "new_text_pair = [\"I enjoy reading books\", \"Reading is my favorite hobby\"]\n",
    "\n",
    "# Preprocess the new text pair (tokenization and padding)\n",
    "new_sequences = tokenizer.texts_to_sequences(new_text_pair)\n",
    "new_sequences = pad_sequences(new_sequences, maxlen=max_seq_length)\n",
    "\n",
    "# Make predictions\n",
    "similarity_score = siamese_model.predict([new_sequences[0], new_sequences[1]])\n",
    "\n",
    "# Print the similarity score\n",
    "print(f\"Similarity Score: {similarity_score[0]}\")\n",
    "\n",
    "# You can define a threshold to decide if the texts are similar or dissimilar\n",
    "threshold = 0.5  # Adjust this threshold as needed\n",
    "if similarity_score[0] > threshold:\n",
    "    print(\"The texts are similar.\")\n",
    "else:\n",
    "    print(\"The texts are dissimilar.\")\n"
   ]
  },
  {
   "cell_type": "code",
   "execution_count": 120,
   "metadata": {},
   "outputs": [],
   "source": [
    "\n",
    "validation_pairs = [\n",
    "    [\"Soccer is a popular sport\", \"Basketball is a team sport\"],\n",
    "    [\"The Eiffel Tower is in Paris\", \"The Statue of Liberty is in New York\"],\n",
    "    [\"Mangoes are a tropical fruit\", \"Pineapples are also tropical fruits\"],\n",
    "    [\"Hiking in the mountains is refreshing\", \"Swimming in the ocean is relaxing\"],\n",
    "    [\"Computer science involves coding\", \"Biology focuses on living organisms\"],\n",
    "    [\"The Earth orbits the Sun\", \"The Moon orbits the Earth\"],\n",
    "    [\"Cats have whiskers\", \"Snakes are limbless reptiles\"],\n",
    "    [\"Writing code can be challenging\", \"Reading books is a leisurely activity\"],\n",
    "    [\"Chemistry deals with chemical reactions\", \"Physics studies the laws of nature\"],\n",
    "    [\"Mount Everest is the world's tallest peak\", \"K2 is also a tall mountain\"],\n",
    "    [\"Artists create visual masterpieces\", \"Musicians compose melodious tunes\"],\n",
    "    [\"Summer is hot and sunny\", \"Winter is cold and snowy\"],\n",
    "    [\"Insects have six legs\", \"Spiders are arachnids with eight legs\"],\n",
    "    [\"London is the capital of England\", \"Tokyo is the capital of Japan\"],\n",
    "    [\"Learning a new language is a valuable skill\", \"Cooking delicious food is an art\"],\n",
    "    [\"Elephants are large mammals\", \"Kangaroos are marsupials\"],\n",
    "    [\"Rivers flow downstream to the sea\", \"Waterfalls are breathtaking natural wonders\"],\n",
    "    [\"Astronomy explores celestial objects\", \"Geology studies the Earth's structure\"],\n",
    "    [\"Singing requires vocal talent\", \"Dancing showcases body movements\"],\n",
    "    [\"Gardening is a peaceful hobby\", \"Extreme sports offer adrenaline rushes\"]\n",
    "]\n",
    "\n",
    "validation_labels = [1, 0, 0, 1, 1, 0, 1, 0, 0, 1, 1, 0, 1, 0, 1, 0, 1, 0, 1, 0]\n"
   ]
  },
  {
   "cell_type": "code",
   "execution_count": 121,
   "metadata": {},
   "outputs": [
    {
     "name": "stdout",
     "output_type": "stream",
     "text": [
      "1/1 [==============================] - 0s 146ms/step\n"
     ]
    }
   ],
   "source": [
    "validation_sequences = tokenizer.texts_to_sequences([pair[0] for pair in validation_pairs])\n",
    "validation_sequences = pad_sequences(validation_sequences, maxlen=max_seq_length)\n",
    "validation_sequences_2 = tokenizer.texts_to_sequences([pair[1] for pair in validation_pairs])\n",
    "validation_sequences_2 = pad_sequences(validation_sequences_2, maxlen=max_seq_length)\n",
    "\n",
    "# Calculate similarity scores\n",
    "similarity_scores = siamese_model.predict([validation_sequences, validation_sequences_2])"
   ]
  },
  {
   "cell_type": "code",
   "execution_count": 122,
   "metadata": {},
   "outputs": [
    {
     "name": "stdout",
     "output_type": "stream",
     "text": [
      "F1 Score: 0.67\n"
     ]
    }
   ],
   "source": [
    "# Define the threshold (you can adjust this as needed)\n",
    "threshold = 0.5\n",
    "\n",
    "# Initialize counters\n",
    "true_positives = 0\n",
    "true_negatives = 0\n",
    "false_positives = 0\n",
    "false_negatives = 0\n",
    "\n",
    "# Compare each similarity score to the threshold\n",
    "for i in range(len(validation_labels)):\n",
    "    if validation_labels[i] == 1:\n",
    "        if similarity_scores[i][0] >= threshold:\n",
    "            true_positives += 1\n",
    "        else:\n",
    "            false_negatives += 1\n",
    "    else:\n",
    "        if similarity_scores[i][0] >= threshold:\n",
    "            false_positives += 1\n",
    "        else:\n",
    "            true_negatives += 1\n",
    "\n",
    "# Calculate F1 score\n",
    "precision = true_positives / (true_positives + false_positives)\n",
    "recall = true_positives / (true_positives + false_negatives)\n",
    "f1_score = 2 * (precision * recall) / (precision + recall)\n",
    "\n",
    "# Print F1 score\n",
    "print(f\"F1 Score: {f1_score:.2f}\")\n"
   ]
  },
  {
   "cell_type": "code",
   "execution_count": 123,
   "metadata": {},
   "outputs": [
    {
     "data": {
      "image/png": "[encoded data removed]",
      "text/plain": [
       "<Figure size 800x600 with 1 Axes>"
      ]
     },
     "metadata": {},
     "output_type": "display_data"
    }
   ],
   "source": [
    "# Calculate ROC curve and AUC\n",
    "fpr, tpr, thresholds = roc_curve(validation_labels, similarity_scores[:, 0])  # Extract the first column\n",
    "roc_auc = roc_auc_score(validation_labels, similarity_scores[:, 0])  # Extract the first column\n",
    "\n",
    "# Plot ROC curve\n",
    "plt.figure(figsize=(8, 6))\n",
    "plt.plot(fpr, tpr, label=f'AUC = {roc_auc:.2f}')\n",
    "plt.plot([0, 1], [0, 1], 'k--')\n",
    "plt.xlim([0.0, 1.0])\n",
    "plt.ylim([0.0, 1.05])\n",
    "plt.xlabel('False Positive Rate')\n",
    "plt.ylabel('True Positive Rate')\n",
    "plt.title('ROC Curve')\n",
    "plt.legend(loc='lower right')\n",
    "plt.show()\n"
   ]
  }
 ],
 "metadata": {
  "kernelspec": {
   "display_name": "Python 3",
   "language": "python",
   "name": "python3"
  },
  "language_info": {
   "codemirror_mode": {
    "name": "ipython",
    "version": 3
   },
   "file_extension": ".py",
   "mimetype": "text/x-python",
   "name": "python",
   "nbconvert_exporter": "python",
   "pygments_lexer": "ipython3",
   "version": "3.10.11"
  },
  "orig_nbformat": 4
 },
 "nbformat": 4,
 "nbformat_minor": 2
}
